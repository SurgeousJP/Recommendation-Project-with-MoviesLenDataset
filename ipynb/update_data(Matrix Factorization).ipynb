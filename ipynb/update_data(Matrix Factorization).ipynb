{
 "cells": [
  {
   "cell_type": "markdown",
   "id": "665a61e5",
   "metadata": {},
   "source": [
    "## Import the necessary libraries"
   ]
  },
  {
   "cell_type": "code",
   "execution_count": 1,
   "id": "d7e2522f",
   "metadata": {},
   "outputs": [],
   "source": [
    "import io, os, sys, types\n",
    "from IPython import get_ipython\n",
    "from nbformat import read\n",
    "from IPython.core.interactiveshell import InteractiveShell"
   ]
  },
  {
   "cell_type": "markdown",
   "id": "1c5366e5",
   "metadata": {},
   "source": [
    "## Function find_notebook"
   ]
  },
  {
   "cell_type": "code",
   "execution_count": 2,
   "id": "1711a912",
   "metadata": {},
   "outputs": [],
   "source": [
    "def find_notebook(fullname, path=None):\n",
    "    \"\"\"find a notebook, given its fully qualified name and an optional path\n",
    "\n",
    "    This turns \"foo.bar\" into \"foo/bar.ipynb\"\n",
    "    and tries turning \"Foo_Bar\" into \"Foo Bar\" if Foo_Bar\n",
    "    does not exist.\n",
    "    \"\"\"\n",
    "    name = fullname.rsplit('.', 1)[-1]\n",
    "    if not path:\n",
    "        path = ['']\n",
    "    for d in path:\n",
    "        nb_path = os.path.join(d, name + \".ipynb\")\n",
    "        if os.path.isfile(nb_path):\n",
    "            return nb_path\n",
    "        # let import Notebook_Name find \"Notebook Name.ipynb\"\n",
    "        nb_path = nb_path.replace(\"_\", \" \")\n",
    "        if os.path.isfile(nb_path):\n",
    "            return nb_path"
   ]
  },
  {
   "cell_type": "code",
   "execution_count": 3,
   "id": "efd48897",
   "metadata": {
    "scrolled": true
   },
   "outputs": [
    {
     "name": "stdout",
     "output_type": "stream",
     "text": [
      "integrates_into_database(Matrix Factorization).ipynb\n"
     ]
    }
   ],
   "source": [
    "print(find_notebook('integrates_into_database(Matrix Factorization)'))"
   ]
  },
  {
   "cell_type": "markdown",
   "id": "93e920ff",
   "metadata": {},
   "source": [
    "## Class NotebookLoader"
   ]
  },
  {
   "cell_type": "code",
   "execution_count": 4,
   "id": "9dc7de66",
   "metadata": {},
   "outputs": [],
   "source": [
    "class NotebookLoader(object):\n",
    "    \"\"\"Module Loader for Jupyter Notebooks\"\"\"\n",
    "\n",
    "    def __init__(self, path=None):\n",
    "        self.shell = InteractiveShell.instance()\n",
    "        self.path = path\n",
    "\n",
    "    def load_module(self, fullname):\n",
    "        \"\"\"import a notebook as a module\"\"\"\n",
    "        path = find_notebook(fullname, self.path)\n",
    "\n",
    "        print(\"importing Jupyter notebook from %s\" % path)\n",
    "\n",
    "        # load the notebook object\n",
    "        with io.open(path, 'r', encoding='utf-8') as f:\n",
    "            nb = read(f, 4)\n",
    "\n",
    "        # create the module and add it to sys.modules\n",
    "        # if name in sys.modules:\n",
    "        #    return sys.modules[name]\n",
    "        mod = types.ModuleType(fullname)\n",
    "        mod.__file__ = path\n",
    "        mod.__loader__ = self\n",
    "        mod.__dict__['get_ipython'] = get_ipython\n",
    "        sys.modules[fullname] = mod\n",
    "\n",
    "        # extra work to ensure that magics that would affect the user_ns\n",
    "        # actually affect the notebook module's ns\n",
    "        save_user_ns = self.shell.user_ns\n",
    "        self.shell.user_ns = mod.__dict__\n",
    "\n",
    "        try:\n",
    "            for cell in nb.cells:\n",
    "                if cell.cell_type == 'code':\n",
    "                    # transform the input to executable Python\n",
    "                    code = self.shell.input_transformer_manager.transform_cell(cell.source)\n",
    "                    # run the code in themodule\n",
    "                    exec(code, mod.__dict__)\n",
    "        finally:\n",
    "            self.shell.user_ns = save_user_ns\n",
    "        return mod"
   ]
  },
  {
   "cell_type": "code",
   "execution_count": 5,
   "id": "a5ae3d61",
   "metadata": {},
   "outputs": [],
   "source": [
    "# Init a notebook loader\n",
    "notebook_loader = NotebookLoader()"
   ]
  },
  {
   "cell_type": "code",
   "execution_count": 6,
   "id": "8174f230",
   "metadata": {},
   "outputs": [
    {
     "name": "stdout",
     "output_type": "stream",
     "text": [
      "importing Jupyter notebook from integrates_into_database(Matrix Factorization).ipynb\n",
      "Requirement already satisfied: pymongo in c:\\users\\tuanb\\anaconda3\\lib\\site-packages (4.6.0)\n",
      "Requirement already satisfied: dnspython<3.0.0,>=1.16.0 in c:\\users\\tuanb\\anaconda3\\lib\\site-packages (from pymongo) (2.4.2)\n",
      "iter = 5 , loss = 47.22462132460583 , RMSE train = 1.5428593350436521\n",
      "iter = 10 , loss = 31.63080267172637 , RMSE train = 1.1442666532837469\n",
      "iter = 15 , loss = 21.464647027406585 , RMSE train = 0.9992789181617923\n",
      "iter = 20 , loss = 14.661314281874741 , RMSE train = 0.9636897361972933\n",
      "iter = 25 , loss = 10.071069265677322 , RMSE train = 0.9562100038399085\n",
      "\n",
      "User-based MF, RMSE = 0.9877489439744193\n"
     ]
    }
   ],
   "source": [
    "# Import the algorithms module\n",
    "matrix_fac_rec_sys = notebook_loader.load_module('integrates_into_database(Matrix Factorization)')"
   ]
  },
  {
   "cell_type": "code",
   "execution_count": 7,
   "id": "a44efde0",
   "metadata": {},
   "outputs": [
    {
     "ename": "AttributeError",
     "evalue": "'MF' object has no attribute 'recommend'",
     "output_type": "error",
     "traceback": [
      "\u001b[1;31m---------------------------------------------------------------------------\u001b[0m",
      "\u001b[1;31mAttributeError\u001b[0m                            Traceback (most recent call last)",
      "Input \u001b[1;32mIn [7]\u001b[0m, in \u001b[0;36m<cell line: 5>\u001b[1;34m()\u001b[0m\n\u001b[0;32m      4\u001b[0m \u001b[38;5;66;03m# Update recommendation list for each user\u001b[39;00m\n\u001b[0;32m      5\u001b[0m \u001b[38;5;28;01mfor\u001b[39;00m user_id \u001b[38;5;129;01min\u001b[39;00m users_id:\n\u001b[1;32m----> 6\u001b[0m     \u001b[38;5;28mprint\u001b[39m(\u001b[43mmatrix_fac_rec_sys\u001b[49m\u001b[38;5;241;43m.\u001b[39;49m\u001b[43mrs\u001b[49m\u001b[38;5;241;43m.\u001b[39;49m\u001b[43mrecommend\u001b[49m(user_id \u001b[38;5;241m-\u001b[39m \u001b[38;5;241m1\u001b[39m))\n\u001b[0;32m      7\u001b[0m     matrix_fac_rec_sys\u001b[38;5;241m.\u001b[39musers_collection\u001b[38;5;241m.\u001b[39mupdate_one(\n\u001b[0;32m      8\u001b[0m     {\u001b[38;5;124m\"\u001b[39m\u001b[38;5;124mid\u001b[39m\u001b[38;5;124m\"\u001b[39m: \u001b[38;5;28mint\u001b[39m(user_id)},\n\u001b[0;32m      9\u001b[0m     {\u001b[38;5;124m\"\u001b[39m\u001b[38;5;124m$set\u001b[39m\u001b[38;5;124m\"\u001b[39m: {\u001b[38;5;124m\"\u001b[39m\u001b[38;5;124mrecommendation_list\u001b[39m\u001b[38;5;124m\"\u001b[39m: matrix_fac_rec_sys\u001b[38;5;241m.\u001b[39mrs\u001b[38;5;241m.\u001b[39mrecommend(user_id \u001b[38;5;241m-\u001b[39m \u001b[38;5;241m1\u001b[39m)}}\n\u001b[0;32m     10\u001b[0m     )\n",
      "\u001b[1;31mAttributeError\u001b[0m: 'MF' object has no attribute 'recommend'"
     ]
    }
   ],
   "source": [
    "# # Get the unique users in database\n",
    "# # users_id = users_df['id'].unique()\n",
    "users_id = [1, 2, 3, 4, 5, 672]\n",
    "# Update recommendation list for each user\n",
    "for user_id in users_id:\n",
    "    print(matrix_fac_rec_sys.get_top_five_movie_for_user_id(matrix_fac_rec_sys.rs.pred_for_user(user_id - 1)))\n",
    "    matrix_fac_rec_sys.users_collection.update_one(\n",
    "    {\"id\": int(user_id)},\n",
    "    {\"$set\": {\"recommendation_list\": matrix_fac_rec_sys.get_top_five_movie_for_user_id(matrix_fac_rec_sys.rs.pred_for_user(user_id - 1))}}\n",
    "    )"
   ]
  }
 ],
 "metadata": {
  "kernelspec": {
   "display_name": "Python [conda env:root] *",
   "language": "python",
   "name": "conda-root-py"
  },
  "language_info": {
   "codemirror_mode": {
    "name": "ipython",
    "version": 3
   },
   "file_extension": ".py",
   "mimetype": "text/x-python",
   "name": "python",
   "nbconvert_exporter": "python",
   "pygments_lexer": "ipython3",
   "version": "3.9.12"
  }
 },
 "nbformat": 4,
 "nbformat_minor": 5
}
