{
 "cells": [
  {
   "cell_type": "markdown",
   "id": "665a61e5",
   "metadata": {},
   "source": [
    "## Import the necessary libraries"
   ]
  },
  {
   "cell_type": "code",
   "execution_count": 1,
   "id": "d7e2522f",
   "metadata": {},
   "outputs": [],
   "source": [
    "import io, os, sys, types\n",
    "from IPython import get_ipython\n",
    "from nbformat import read\n",
    "from IPython.core.interactiveshell import InteractiveShell"
   ]
  },
  {
   "cell_type": "markdown",
   "id": "1c5366e5",
   "metadata": {},
   "source": [
    "## Function find_notebook"
   ]
  },
  {
   "cell_type": "code",
   "execution_count": 2,
   "id": "1711a912",
   "metadata": {},
   "outputs": [],
   "source": [
    "def find_notebook(fullname, path=None):\n",
    "    \"\"\"find a notebook, given its fully qualified name and an optional path\n",
    "\n",
    "    This turns \"foo.bar\" into \"foo/bar.ipynb\"\n",
    "    and tries turning \"Foo_Bar\" into \"Foo Bar\" if Foo_Bar\n",
    "    does not exist.\n",
    "    \"\"\"\n",
    "    name = fullname.rsplit('.', 1)[-1]\n",
    "    if not path:\n",
    "        path = ['']\n",
    "    for d in path:\n",
    "        nb_path = os.path.join(d, name + \".ipynb\")\n",
    "        if os.path.isfile(nb_path):\n",
    "            return nb_path\n",
    "        # let import Notebook_Name find \"Notebook Name.ipynb\"\n",
    "        nb_path = nb_path.replace(\"_\", \" \")\n",
    "        if os.path.isfile(nb_path):\n",
    "            return nb_path"
   ]
  },
  {
   "cell_type": "code",
   "execution_count": 9,
   "id": "efd48897",
   "metadata": {
    "scrolled": true
   },
   "outputs": [
    {
     "name": "stdout",
     "output_type": "stream",
     "text": [
      "integrates_into_database(Collaborative-filtering User-user).ipynb\n"
     ]
    }
   ],
   "source": [
    "print(find_notebook('integrates_into_database(Collaborative-filtering User-user)'))"
   ]
  },
  {
   "cell_type": "markdown",
   "id": "93e920ff",
   "metadata": {},
   "source": [
    "## Class NotebookLoader"
   ]
  },
  {
   "cell_type": "code",
   "execution_count": 4,
   "id": "9dc7de66",
   "metadata": {},
   "outputs": [],
   "source": [
    "class NotebookLoader(object):\n",
    "    \"\"\"Module Loader for Jupyter Notebooks\"\"\"\n",
    "\n",
    "    def __init__(self, path=None):\n",
    "        self.shell = InteractiveShell.instance()\n",
    "        self.path = path\n",
    "\n",
    "    def load_module(self, fullname):\n",
    "        \"\"\"import a notebook as a module\"\"\"\n",
    "        path = find_notebook(fullname, self.path)\n",
    "\n",
    "        print(\"importing Jupyter notebook from %s\" % path)\n",
    "\n",
    "        # load the notebook object\n",
    "        with io.open(path, 'r', encoding='utf-8') as f:\n",
    "            nb = read(f, 4)\n",
    "\n",
    "        # create the module and add it to sys.modules\n",
    "        # if name in sys.modules:\n",
    "        #    return sys.modules[name]\n",
    "        mod = types.ModuleType(fullname)\n",
    "        mod.__file__ = path\n",
    "        mod.__loader__ = self\n",
    "        mod.__dict__['get_ipython'] = get_ipython\n",
    "        sys.modules[fullname] = mod\n",
    "\n",
    "        # extra work to ensure that magics that would affect the user_ns\n",
    "        # actually affect the notebook module's ns\n",
    "        save_user_ns = self.shell.user_ns\n",
    "        self.shell.user_ns = mod.__dict__\n",
    "\n",
    "        try:\n",
    "            for cell in nb.cells:\n",
    "                if cell.cell_type == 'code':\n",
    "                    # transform the input to executable Python\n",
    "                    code = self.shell.input_transformer_manager.transform_cell(cell.source)\n",
    "                    # run the code in themodule\n",
    "                    exec(code, mod.__dict__)\n",
    "        finally:\n",
    "            self.shell.user_ns = save_user_ns\n",
    "        return mod"
   ]
  },
  {
   "cell_type": "code",
   "execution_count": 5,
   "id": "a5ae3d61",
   "metadata": {},
   "outputs": [],
   "source": [
    "# Init a notebook loader\n",
    "notebook_loader = NotebookLoader()"
   ]
  },
  {
   "cell_type": "code",
   "execution_count": 7,
   "id": "8174f230",
   "metadata": {},
   "outputs": [
    {
     "name": "stdout",
     "output_type": "stream",
     "text": [
      "importing Jupyter notebook from integrates_into_database(Collaborative-filtering User-user).ipynb\n",
      "Requirement already satisfied: pymongo in c:\\users\\tuanb\\anaconda3\\lib\\site-packages (4.6.0)\n",
      "Requirement already satisfied: dnspython<3.0.0,>=1.16.0 in c:\\users\\tuanb\\anaconda3\\lib\\site-packages (from pymongo) (2.4.2)\n",
      "User-user CF, RMSE = 1.068754618399911\n"
     ]
    }
   ],
   "source": [
    "# Import the algorithms module\n",
    "collab_rec_sys = notebook_loader.load_module('integrates_into_database(Collaborative-filtering User-user)')"
   ]
  },
  {
   "cell_type": "code",
   "execution_count": 8,
   "id": "a44efde0",
   "metadata": {},
   "outputs": [
    {
     "name": "stdout",
     "output_type": "stream",
     "text": [
      "[4789, 3112, 4140, 2984, 1939]\n",
      "[309, 764, 3112, 9010, 2330]\n",
      "[9010, 74727, 6107, 3112, 309]\n",
      "[3112, 309, 759, 961, 183]\n",
      "[9010, 3112, 26422, 49280, 54328]\n",
      "[309, 2330, 3112, 764, 9010]\n"
     ]
    }
   ],
   "source": [
    "# Get the unique users in database\n",
    "# users_id = users_df['id'].unique()\n",
    "users_id = [1, 2, 3, 4, 5, 672]\n",
    "# Update recommendation list for each user\n",
    "for user_id in users_id:\n",
    "    print(collab_rec_sys.rs.recommend(user_id - 1))\n",
    "    collab_rec_sys.users_collection.update_one(\n",
    "    {\"id\": int(user_id)},\n",
    "    {\"$set\": {\"recommendation_list\": collab_rec_sys.rs.recommend(user_id - 1)}}\n",
    "    )"
   ]
  }
 ],
 "metadata": {
  "kernelspec": {
   "display_name": "Python [conda env:root] *",
   "language": "python",
   "name": "conda-root-py"
  },
  "language_info": {
   "codemirror_mode": {
    "name": "ipython",
    "version": 3
   },
   "file_extension": ".py",
   "mimetype": "text/x-python",
   "name": "python",
   "nbconvert_exporter": "python",
   "pygments_lexer": "ipython3",
   "version": "3.9.12"
  }
 },
 "nbformat": 4,
 "nbformat_minor": 5
}
