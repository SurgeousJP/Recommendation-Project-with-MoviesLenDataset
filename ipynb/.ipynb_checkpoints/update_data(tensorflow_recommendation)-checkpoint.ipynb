{
 "cells": [
  {
   "cell_type": "code",
   "execution_count": 1,
   "id": "84121631",
   "metadata": {},
   "outputs": [],
   "source": [
    "import io, os, sys, types\n",
    "import numpy as np\n",
    "from IPython import get_ipython\n",
    "from nbformat import read\n",
    "from IPython.core.interactiveshell import InteractiveShell"
   ]
  },
  {
   "cell_type": "markdown",
   "id": "ab4dd887",
   "metadata": {},
   "source": [
    "## Function find_notebook"
   ]
  },
  {
   "cell_type": "code",
   "execution_count": 2,
   "id": "6d8669f3",
   "metadata": {},
   "outputs": [],
   "source": [
    "def find_notebook(fullname, path=None):\n",
    "    \"\"\"find a notebook, given its fully qualified name and an optional path\n",
    "\n",
    "    This turns \"foo.bar\" into \"foo/bar.ipynb\"\n",
    "    and tries turning \"Foo_Bar\" into \"Foo Bar\" if Foo_Bar\n",
    "    does not exist.\n",
    "    \"\"\"\n",
    "    name = fullname.rsplit('.', 1)[-1]\n",
    "    if not path:\n",
    "        path = ['']\n",
    "    for d in path:\n",
    "        nb_path = os.path.join(d, name + \".ipynb\")\n",
    "        if os.path.isfile(nb_path):\n",
    "            return nb_path\n",
    "        # let import Notebook_Name find \"Notebook Name.ipynb\"\n",
    "        nb_path = nb_path.replace(\"_\", \" \")\n",
    "        if os.path.isfile(nb_path):\n",
    "            return nb_path"
   ]
  },
  {
   "cell_type": "code",
   "execution_count": 3,
   "id": "42df306e",
   "metadata": {},
   "outputs": [
    {
     "name": "stdout",
     "output_type": "stream",
     "text": [
      "tensorflow_recommendation.ipynb\n"
     ]
    }
   ],
   "source": [
    "print(find_notebook('tensorflow_recommendation'))"
   ]
  },
  {
   "cell_type": "markdown",
   "id": "9622c5c0",
   "metadata": {},
   "source": [
    "## Class NotebookLoader"
   ]
  },
  {
   "cell_type": "code",
   "execution_count": 4,
   "id": "1dc54482",
   "metadata": {},
   "outputs": [],
   "source": [
    "class NotebookLoader(object):\n",
    "    \"\"\"Module Loader for Jupyter Notebooks\"\"\"\n",
    "\n",
    "    def __init__(self, path=None):\n",
    "        self.shell = InteractiveShell.instance()\n",
    "        self.path = path\n",
    "\n",
    "    def load_module(self, fullname):\n",
    "        \"\"\"import a notebook as a module\"\"\"\n",
    "        path = find_notebook(fullname, self.path)\n",
    "\n",
    "        print(\"importing Jupyter notebook from %s\" % path)\n",
    "\n",
    "        # load the notebook object\n",
    "        with io.open(path, 'r', encoding='utf-8') as f:\n",
    "            nb = read(f, 4)\n",
    "\n",
    "        # create the module and add it to sys.modules\n",
    "        # if name in sys.modules:\n",
    "        #    return sys.modules[name]\n",
    "        mod = types.ModuleType(fullname)\n",
    "        mod.__file__ = path\n",
    "        mod.__loader__ = self\n",
    "        mod.__dict__['get_ipython'] = get_ipython\n",
    "        sys.modules[fullname] = mod\n",
    "\n",
    "        # extra work to ensure that magics that would affect the user_ns\n",
    "        # actually affect the notebook module's ns\n",
    "        save_user_ns = self.shell.user_ns\n",
    "        self.shell.user_ns = mod.__dict__\n",
    "\n",
    "        try:\n",
    "            for cell in nb.cells:\n",
    "                if cell.cell_type == 'code':\n",
    "                    # transform the input to executable Python\n",
    "                    code = self.shell.input_transformer_manager.transform_cell(cell.source)\n",
    "                    # run the code in themodule\n",
    "                    exec(code, mod.__dict__)\n",
    "        finally:\n",
    "            self.shell.user_ns = save_user_ns\n",
    "        return mod"
   ]
  },
  {
   "cell_type": "code",
   "execution_count": 5,
   "id": "e7564c1a",
   "metadata": {},
   "outputs": [],
   "source": [
    "# Init a notebook loader\n",
    "notebook_loader = NotebookLoader()"
   ]
  },
  {
   "cell_type": "code",
   "execution_count": 6,
   "id": "d865fb05",
   "metadata": {},
   "outputs": [
    {
     "name": "stdout",
     "output_type": "stream",
     "text": [
      "importing Jupyter notebook from tensorflow_recommendation.ipynb\n",
      "Requirement already satisfied: tensorflow-recommenders in c:\\users\\tuanb\\anaconda3\\envs\\py3-tf2.0\\lib\\site-packages (0.7.3)\n",
      "Requirement already satisfied: tensorflow>=2.9.0 in c:\\users\\tuanb\\anaconda3\\envs\\py3-tf2.0\\lib\\site-packages (from tensorflow-recommenders) (2.11.0)\n",
      "Requirement already satisfied: absl-py>=0.1.6 in c:\\users\\tuanb\\anaconda3\\envs\\py3-tf2.0\\lib\\site-packages (from tensorflow-recommenders) (1.3.0)\n",
      "Requirement already satisfied: tensorflow-intel==2.11.0 in c:\\users\\tuanb\\anaconda3\\envs\\py3-tf2.0\\lib\\site-packages (from tensorflow>=2.9.0->tensorflow-recommenders) (2.11.0)\n",
      "Requirement already satisfied: six>=1.12.0 in c:\\users\\tuanb\\anaconda3\\envs\\py3-tf2.0\\lib\\site-packages (from tensorflow-intel==2.11.0->tensorflow>=2.9.0->tensorflow-recommenders) (1.16.0)\n",
      "Requirement already satisfied: protobuf<3.20,>=3.9.2 in c:\\users\\tuanb\\anaconda3\\envs\\py3-tf2.0\\lib\\site-packages (from tensorflow-intel==2.11.0->tensorflow>=2.9.0->tensorflow-recommenders) (3.19.6)\n",
      "Requirement already satisfied: setuptools in c:\\users\\tuanb\\anaconda3\\envs\\py3-tf2.0\\lib\\site-packages (from tensorflow-intel==2.11.0->tensorflow>=2.9.0->tensorflow-recommenders) (65.6.3)\n",
      "Requirement already satisfied: typing-extensions>=3.6.6 in c:\\users\\tuanb\\anaconda3\\envs\\py3-tf2.0\\lib\\site-packages (from tensorflow-intel==2.11.0->tensorflow>=2.9.0->tensorflow-recommenders) (4.4.0)\n",
      "Requirement already satisfied: tensorflow-io-gcs-filesystem>=0.23.1 in c:\\users\\tuanb\\anaconda3\\envs\\py3-tf2.0\\lib\\site-packages (from tensorflow-intel==2.11.0->tensorflow>=2.9.0->tensorflow-recommenders) (0.31.0)\n",
      "Requirement already satisfied: h5py>=2.9.0 in c:\\users\\tuanb\\anaconda3\\envs\\py3-tf2.0\\lib\\site-packages (from tensorflow-intel==2.11.0->tensorflow>=2.9.0->tensorflow-recommenders) (3.7.0)\n",
      "Requirement already satisfied: grpcio<2.0,>=1.24.3 in c:\\users\\tuanb\\anaconda3\\envs\\py3-tf2.0\\lib\\site-packages (from tensorflow-intel==2.11.0->tensorflow>=2.9.0->tensorflow-recommenders) (1.42.0)\n",
      "Requirement already satisfied: packaging in c:\\users\\tuanb\\anaconda3\\envs\\py3-tf2.0\\lib\\site-packages (from tensorflow-intel==2.11.0->tensorflow>=2.9.0->tensorflow-recommenders) (22.0)\n",
      "Requirement already satisfied: astunparse>=1.6.0 in c:\\users\\tuanb\\anaconda3\\envs\\py3-tf2.0\\lib\\site-packages (from tensorflow-intel==2.11.0->tensorflow>=2.9.0->tensorflow-recommenders) (1.6.3)\n",
      "Requirement already satisfied: flatbuffers>=2.0 in c:\\users\\tuanb\\anaconda3\\envs\\py3-tf2.0\\lib\\site-packages (from tensorflow-intel==2.11.0->tensorflow>=2.9.0->tensorflow-recommenders) (2.0)\n",
      "Requirement already satisfied: keras<2.12,>=2.11.0 in c:\\users\\tuanb\\anaconda3\\envs\\py3-tf2.0\\lib\\site-packages (from tensorflow-intel==2.11.0->tensorflow>=2.9.0->tensorflow-recommenders) (2.11.0)\n",
      "Requirement already satisfied: wrapt>=1.11.0 in c:\\users\\tuanb\\anaconda3\\envs\\py3-tf2.0\\lib\\site-packages (from tensorflow-intel==2.11.0->tensorflow>=2.9.0->tensorflow-recommenders) (1.14.1)\n",
      "Requirement already satisfied: tensorboard<2.12,>=2.11 in c:\\users\\tuanb\\anaconda3\\envs\\py3-tf2.0\\lib\\site-packages (from tensorflow-intel==2.11.0->tensorflow>=2.9.0->tensorflow-recommenders) (2.11.2)\n",
      "Requirement already satisfied: tensorflow-estimator<2.12,>=2.11.0 in c:\\users\\tuanb\\anaconda3\\envs\\py3-tf2.0\\lib\\site-packages (from tensorflow-intel==2.11.0->tensorflow>=2.9.0->tensorflow-recommenders) (2.11.0)\n",
      "Requirement already satisfied: opt-einsum>=2.3.2 in c:\\users\\tuanb\\anaconda3\\envs\\py3-tf2.0\\lib\\site-packages (from tensorflow-intel==2.11.0->tensorflow>=2.9.0->tensorflow-recommenders) (3.3.0)\n",
      "Requirement already satisfied: termcolor>=1.1.0 in c:\\users\\tuanb\\anaconda3\\envs\\py3-tf2.0\\lib\\site-packages (from tensorflow-intel==2.11.0->tensorflow>=2.9.0->tensorflow-recommenders) (2.1.0)\n",
      "Requirement already satisfied: numpy>=1.20 in c:\\users\\tuanb\\anaconda3\\envs\\py3-tf2.0\\lib\\site-packages (from tensorflow-intel==2.11.0->tensorflow>=2.9.0->tensorflow-recommenders) (1.23.5)\n",
      "Requirement already satisfied: google-pasta>=0.1.1 in c:\\users\\tuanb\\anaconda3\\envs\\py3-tf2.0\\lib\\site-packages (from tensorflow-intel==2.11.0->tensorflow>=2.9.0->tensorflow-recommenders) (0.2.0)\n",
      "Requirement already satisfied: libclang>=13.0.0 in c:\\users\\tuanb\\anaconda3\\envs\\py3-tf2.0\\lib\\site-packages (from tensorflow-intel==2.11.0->tensorflow>=2.9.0->tensorflow-recommenders) (15.0.6.1)\n",
      "Requirement already satisfied: gast<=0.4.0,>=0.2.1 in c:\\users\\tuanb\\anaconda3\\envs\\py3-tf2.0\\lib\\site-packages (from tensorflow-intel==2.11.0->tensorflow>=2.9.0->tensorflow-recommenders) (0.4.0)\n",
      "Requirement already satisfied: wheel<1.0,>=0.23.0 in c:\\users\\tuanb\\anaconda3\\envs\\py3-tf2.0\\lib\\site-packages (from astunparse>=1.6.0->tensorflow-intel==2.11.0->tensorflow>=2.9.0->tensorflow-recommenders) (0.38.4)\n",
      "Requirement already satisfied: markdown>=2.6.8 in c:\\users\\tuanb\\anaconda3\\envs\\py3-tf2.0\\lib\\site-packages (from tensorboard<2.12,>=2.11->tensorflow-intel==2.11.0->tensorflow>=2.9.0->tensorflow-recommenders) (3.4.1)\n",
      "Requirement already satisfied: tensorboard-plugin-wit>=1.6.0 in c:\\users\\tuanb\\anaconda3\\envs\\py3-tf2.0\\lib\\site-packages (from tensorboard<2.12,>=2.11->tensorflow-intel==2.11.0->tensorflow>=2.9.0->tensorflow-recommenders) (1.8.1)\n",
      "Requirement already satisfied: requests<3,>=2.21.0 in c:\\users\\tuanb\\anaconda3\\envs\\py3-tf2.0\\lib\\site-packages (from tensorboard<2.12,>=2.11->tensorflow-intel==2.11.0->tensorflow>=2.9.0->tensorflow-recommenders) (2.28.1)\n",
      "Requirement already satisfied: tensorboard-data-server<0.7.0,>=0.6.0 in c:\\users\\tuanb\\anaconda3\\envs\\py3-tf2.0\\lib\\site-packages (from tensorboard<2.12,>=2.11->tensorflow-intel==2.11.0->tensorflow>=2.9.0->tensorflow-recommenders) (0.6.1)\n",
      "Requirement already satisfied: werkzeug>=1.0.1 in c:\\users\\tuanb\\anaconda3\\envs\\py3-tf2.0\\lib\\site-packages (from tensorboard<2.12,>=2.11->tensorflow-intel==2.11.0->tensorflow>=2.9.0->tensorflow-recommenders) (2.2.2)\n",
      "Requirement already satisfied: google-auth-oauthlib<0.5,>=0.4.1 in c:\\users\\tuanb\\anaconda3\\envs\\py3-tf2.0\\lib\\site-packages (from tensorboard<2.12,>=2.11->tensorflow-intel==2.11.0->tensorflow>=2.9.0->tensorflow-recommenders) (0.4.4)\n",
      "Requirement already satisfied: google-auth<3,>=1.6.3 in c:\\users\\tuanb\\anaconda3\\envs\\py3-tf2.0\\lib\\site-packages (from tensorboard<2.12,>=2.11->tensorflow-intel==2.11.0->tensorflow>=2.9.0->tensorflow-recommenders) (2.6.0)\n",
      "Requirement already satisfied: pyasn1-modules>=0.2.1 in c:\\users\\tuanb\\anaconda3\\envs\\py3-tf2.0\\lib\\site-packages (from google-auth<3,>=1.6.3->tensorboard<2.12,>=2.11->tensorflow-intel==2.11.0->tensorflow>=2.9.0->tensorflow-recommenders) (0.2.8)\n",
      "Requirement already satisfied: cachetools<6.0,>=2.0.0 in c:\\users\\tuanb\\anaconda3\\envs\\py3-tf2.0\\lib\\site-packages (from google-auth<3,>=1.6.3->tensorboard<2.12,>=2.11->tensorflow-intel==2.11.0->tensorflow>=2.9.0->tensorflow-recommenders) (4.2.2)\n",
      "Requirement already satisfied: rsa<5,>=3.1.4 in c:\\users\\tuanb\\anaconda3\\envs\\py3-tf2.0\\lib\\site-packages (from google-auth<3,>=1.6.3->tensorboard<2.12,>=2.11->tensorflow-intel==2.11.0->tensorflow>=2.9.0->tensorflow-recommenders) (4.7.2)\n",
      "Requirement already satisfied: requests-oauthlib>=0.7.0 in c:\\users\\tuanb\\anaconda3\\envs\\py3-tf2.0\\lib\\site-packages (from google-auth-oauthlib<0.5,>=0.4.1->tensorboard<2.12,>=2.11->tensorflow-intel==2.11.0->tensorflow>=2.9.0->tensorflow-recommenders) (1.3.0)\n",
      "Requirement already satisfied: idna<4,>=2.5 in c:\\users\\tuanb\\anaconda3\\envs\\py3-tf2.0\\lib\\site-packages (from requests<3,>=2.21.0->tensorboard<2.12,>=2.11->tensorflow-intel==2.11.0->tensorflow>=2.9.0->tensorflow-recommenders) (3.4)\n",
      "Requirement already satisfied: urllib3<1.27,>=1.21.1 in c:\\users\\tuanb\\anaconda3\\envs\\py3-tf2.0\\lib\\site-packages (from requests<3,>=2.21.0->tensorboard<2.12,>=2.11->tensorflow-intel==2.11.0->tensorflow>=2.9.0->tensorflow-recommenders) (1.26.14)\n",
      "Requirement already satisfied: certifi>=2017.4.17 in c:\\users\\tuanb\\anaconda3\\envs\\py3-tf2.0\\lib\\site-packages (from requests<3,>=2.21.0->tensorboard<2.12,>=2.11->tensorflow-intel==2.11.0->tensorflow>=2.9.0->tensorflow-recommenders) (2022.12.7)\n",
      "Requirement already satisfied: charset-normalizer<3,>=2 in c:\\users\\tuanb\\anaconda3\\envs\\py3-tf2.0\\lib\\site-packages (from requests<3,>=2.21.0->tensorboard<2.12,>=2.11->tensorflow-intel==2.11.0->tensorflow>=2.9.0->tensorflow-recommenders) (2.0.4)\n",
      "Requirement already satisfied: MarkupSafe>=2.1.1 in c:\\users\\tuanb\\anaconda3\\envs\\py3-tf2.0\\lib\\site-packages (from werkzeug>=1.0.1->tensorboard<2.12,>=2.11->tensorflow-intel==2.11.0->tensorflow>=2.9.0->tensorflow-recommenders) (2.1.1)\n",
      "Requirement already satisfied: pyasn1<0.5.0,>=0.4.6 in c:\\users\\tuanb\\anaconda3\\envs\\py3-tf2.0\\lib\\site-packages (from pyasn1-modules>=0.2.1->google-auth<3,>=1.6.3->tensorboard<2.12,>=2.11->tensorflow-intel==2.11.0->tensorflow>=2.9.0->tensorflow-recommenders) (0.4.8)\n",
      "Requirement already satisfied: oauthlib>=3.0.0 in c:\\users\\tuanb\\anaconda3\\envs\\py3-tf2.0\\lib\\site-packages (from requests-oauthlib>=0.7.0->google-auth-oauthlib<0.5,>=0.4.1->tensorboard<2.12,>=2.11->tensorflow-intel==2.11.0->tensorflow>=2.9.0->tensorflow-recommenders) (3.2.1)\n"
     ]
    },
    {
     "name": "stdout",
     "output_type": "stream",
     "text": [
      "Requirement already satisfied: pandas in c:\\users\\tuanb\\anaconda3\\envs\\py3-tf2.0\\lib\\site-packages (2.1.3)\n",
      "Requirement already satisfied: pytz>=2020.1 in c:\\users\\tuanb\\anaconda3\\envs\\py3-tf2.0\\lib\\site-packages (from pandas) (2022.7)\n",
      "Requirement already satisfied: numpy<2,>=1.22.4 in c:\\users\\tuanb\\anaconda3\\envs\\py3-tf2.0\\lib\\site-packages (from pandas) (1.23.5)\n",
      "Requirement already satisfied: tzdata>=2022.1 in c:\\users\\tuanb\\anaconda3\\envs\\py3-tf2.0\\lib\\site-packages (from pandas) (2023.3)\n",
      "Requirement already satisfied: python-dateutil>=2.8.2 in c:\\users\\tuanb\\anaconda3\\envs\\py3-tf2.0\\lib\\site-packages (from pandas) (2.8.2)\n",
      "Requirement already satisfied: six>=1.5 in c:\\users\\tuanb\\anaconda3\\envs\\py3-tf2.0\\lib\\site-packages (from python-dateutil>=2.8.2->pandas) (1.16.0)\n",
      "Requirement already satisfied: pymongo in c:\\users\\tuanb\\anaconda3\\envs\\py3-tf2.0\\lib\\site-packages (4.6.1)\n",
      "Requirement already satisfied: dnspython<3.0.0,>=1.16.0 in c:\\users\\tuanb\\anaconda3\\envs\\py3-tf2.0\\lib\\site-packages (from pymongo) (2.4.2)\n",
      "Epoch 1/5\n",
      "9/9 [==============================] - 4s 290ms/step - factorized_top_k/top_1_categorical_accuracy: 5.5673e-05 - factorized_top_k/top_5_categorical_accuracy: 8.0726e-04 - factorized_top_k/top_10_categorical_accuracy: 0.0024 - factorized_top_k/top_50_categorical_accuracy: 0.0191 - factorized_top_k/top_100_categorical_accuracy: 0.0414 - loss: 39519.0609 - regularization_loss: 0.0000e+00 - total_loss: 39519.0609\n",
      "Epoch 2/5\n",
      "9/9 [==============================] - 3s 277ms/step - factorized_top_k/top_1_categorical_accuracy: 2.5053e-04 - factorized_top_k/top_5_categorical_accuracy: 0.0051 - factorized_top_k/top_10_categorical_accuracy: 0.0126 - factorized_top_k/top_50_categorical_accuracy: 0.0803 - factorized_top_k/top_100_categorical_accuracy: 0.1467 - loss: 32911.0703 - regularization_loss: 0.0000e+00 - total_loss: 32911.0703\n",
      "Epoch 3/5\n",
      "9/9 [==============================] - 3s 293ms/step - factorized_top_k/top_1_categorical_accuracy: 0.0024 - factorized_top_k/top_5_categorical_accuracy: 0.0162 - factorized_top_k/top_10_categorical_accuracy: 0.0406 - factorized_top_k/top_50_categorical_accuracy: 0.2075 - factorized_top_k/top_100_categorical_accuracy: 0.3385 - loss: 29785.7439 - regularization_loss: 0.0000e+00 - total_loss: 29785.7439\n",
      "Epoch 4/5\n",
      "9/9 [==============================] - 3s 270ms/step - factorized_top_k/top_1_categorical_accuracy: 0.0038 - factorized_top_k/top_5_categorical_accuracy: 0.0219 - factorized_top_k/top_10_categorical_accuracy: 0.0564 - factorized_top_k/top_50_categorical_accuracy: 0.2973 - factorized_top_k/top_100_categorical_accuracy: 0.4595 - loss: 28773.1354 - regularization_loss: 0.0000e+00 - total_loss: 28773.1354\n",
      "Epoch 5/5\n",
      "9/9 [==============================] - 3s 314ms/step - factorized_top_k/top_1_categorical_accuracy: 0.0024 - factorized_top_k/top_5_categorical_accuracy: 0.0213 - factorized_top_k/top_10_categorical_accuracy: 0.0631 - factorized_top_k/top_50_categorical_accuracy: 0.3527 - factorized_top_k/top_100_categorical_accuracy: 0.5266 - loss: 28244.7488 - regularization_loss: 0.0000e+00 - total_loss: 28244.7488\n",
      "3/3 [==============================] - 1s 245ms/step - factorized_top_k/top_1_categorical_accuracy: 0.0000e+00 - factorized_top_k/top_5_categorical_accuracy: 0.0000e+00 - factorized_top_k/top_10_categorical_accuracy: 4.4538e-04 - factorized_top_k/top_50_categorical_accuracy: 0.0411 - factorized_top_k/top_100_categorical_accuracy: 0.1136 - loss: 21194.5847 - regularization_loss: 0.0000e+00 - total_loss: 21194.5847\n",
      "Top 10 recommendations for user 672: [   681     63    710    956  27376   6636   1398   1408    424    992\n",
      "    393   4951    631   1373   1091  41863   6646   2077    122   6466\n",
      "   7916    839   5899   1596     66    870    489   1405    673    296\n",
      "   1372   4111    200   1499   2071   1919  50601   1783   7305    711\n",
      "  49314   3064  25952    513   4538    762   1450    437   1924  53129\n",
      "  69784  56171    161    742    547 120637   1629   8929  64983  70121\n",
      "   4949  53519    994    891    810  90888    329    223    614     55\n",
      "  55167   4704   1018  91548     77   8618    842   7300   8974    240\n",
      "   4592   1543     15    108  51540    315    949    561    510   1831\n",
      "   4972    177    153   8010   4271    163    849   1661  26555  50189]\n"
     ]
    }
   ],
   "source": [
    "# Import the algorithms module\n",
    "tensorflow_rec_sys = notebook_loader.load_module('tensorflow_recommendation')"
   ]
  },
  {
   "cell_type": "code",
   "execution_count": 7,
   "id": "44834e9d",
   "metadata": {},
   "outputs": [],
   "source": [
    "# # Get the unique users in database\n",
    "# # users_id = users_df['id'].unique()\n",
    "users_id = [1, 2, 3, 4, 5, 672]\n",
    "# Update recommendation list for each user\n",
    "for user_id in users_id:\n",
    "    tensorflow_rec_sys.users_collection.update_one(\n",
    "    {\"id\": int(user_id)},\n",
    "    {\"$set\": {\"recommendation_list\": tensorflow_rec_sys.recommend_for_user(user_id)}}\n",
    "    )"
   ]
  }
 ],
 "metadata": {
  "kernelspec": {
   "display_name": "Python [conda env:py3-TF2.0]",
   "language": "python",
   "name": "conda-env-py3-TF2.0-py"
  },
  "language_info": {
   "codemirror_mode": {
    "name": "ipython",
    "version": 3
   },
   "file_extension": ".py",
   "mimetype": "text/x-python",
   "name": "python",
   "nbconvert_exporter": "python",
   "pygments_lexer": "ipython3",
   "version": "3.10.9"
  }
 },
 "nbformat": 4,
 "nbformat_minor": 5
}
